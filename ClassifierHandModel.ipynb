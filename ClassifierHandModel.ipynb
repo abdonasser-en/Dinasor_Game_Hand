{
 "cells": [
  {
   "cell_type": "markdown",
   "metadata": {},
   "source": [
    "# Importation et Preparation de données "
   ]
  },
  {
   "cell_type": "code",
   "execution_count": 1,
   "metadata": {},
   "outputs": [
    {
     "data": {
      "text/html": [
       "<div>\n",
       "<style scoped>\n",
       "    .dataframe tbody tr th:only-of-type {\n",
       "        vertical-align: middle;\n",
       "    }\n",
       "\n",
       "    .dataframe tbody tr th {\n",
       "        vertical-align: top;\n",
       "    }\n",
       "\n",
       "    .dataframe thead th {\n",
       "        text-align: right;\n",
       "    }\n",
       "</style>\n",
       "<table border=\"1\" class=\"dataframe\">\n",
       "  <thead>\n",
       "    <tr style=\"text-align: right;\">\n",
       "      <th></th>\n",
       "      <th>meanX</th>\n",
       "      <th>meanY</th>\n",
       "      <th>meanZ</th>\n",
       "      <th>stdX</th>\n",
       "      <th>stdY</th>\n",
       "      <th>class</th>\n",
       "    </tr>\n",
       "  </thead>\n",
       "  <tbody>\n",
       "    <tr>\n",
       "      <th>0</th>\n",
       "      <td>0.340405</td>\n",
       "      <td>0.389897</td>\n",
       "      <td>-0.071118</td>\n",
       "      <td>0.065661</td>\n",
       "      <td>0.132062</td>\n",
       "      <td>0</td>\n",
       "    </tr>\n",
       "    <tr>\n",
       "      <th>1</th>\n",
       "      <td>0.411505</td>\n",
       "      <td>0.283986</td>\n",
       "      <td>-0.045223</td>\n",
       "      <td>0.068520</td>\n",
       "      <td>0.143484</td>\n",
       "      <td>0</td>\n",
       "    </tr>\n",
       "    <tr>\n",
       "      <th>2</th>\n",
       "      <td>0.407197</td>\n",
       "      <td>0.298185</td>\n",
       "      <td>-0.040169</td>\n",
       "      <td>0.067556</td>\n",
       "      <td>0.149036</td>\n",
       "      <td>0</td>\n",
       "    </tr>\n",
       "    <tr>\n",
       "      <th>3</th>\n",
       "      <td>0.461817</td>\n",
       "      <td>0.229994</td>\n",
       "      <td>-0.042712</td>\n",
       "      <td>0.069907</td>\n",
       "      <td>0.159890</td>\n",
       "      <td>0</td>\n",
       "    </tr>\n",
       "    <tr>\n",
       "      <th>4</th>\n",
       "      <td>0.482023</td>\n",
       "      <td>0.201822</td>\n",
       "      <td>-0.055571</td>\n",
       "      <td>0.071883</td>\n",
       "      <td>0.164498</td>\n",
       "      <td>0</td>\n",
       "    </tr>\n",
       "    <tr>\n",
       "      <th>...</th>\n",
       "      <td>...</td>\n",
       "      <td>...</td>\n",
       "      <td>...</td>\n",
       "      <td>...</td>\n",
       "      <td>...</td>\n",
       "      <td>...</td>\n",
       "    </tr>\n",
       "    <tr>\n",
       "      <th>1025</th>\n",
       "      <td>0.686055</td>\n",
       "      <td>0.325725</td>\n",
       "      <td>-0.051490</td>\n",
       "      <td>0.069666</td>\n",
       "      <td>0.157859</td>\n",
       "      <td>0</td>\n",
       "    </tr>\n",
       "    <tr>\n",
       "      <th>1026</th>\n",
       "      <td>0.681790</td>\n",
       "      <td>0.329286</td>\n",
       "      <td>-0.051591</td>\n",
       "      <td>0.069505</td>\n",
       "      <td>0.157771</td>\n",
       "      <td>0</td>\n",
       "    </tr>\n",
       "    <tr>\n",
       "      <th>1027</th>\n",
       "      <td>0.678626</td>\n",
       "      <td>0.333005</td>\n",
       "      <td>-0.054289</td>\n",
       "      <td>0.069537</td>\n",
       "      <td>0.156794</td>\n",
       "      <td>0</td>\n",
       "    </tr>\n",
       "    <tr>\n",
       "      <th>1028</th>\n",
       "      <td>0.675963</td>\n",
       "      <td>0.334387</td>\n",
       "      <td>-0.048172</td>\n",
       "      <td>0.069355</td>\n",
       "      <td>0.155916</td>\n",
       "      <td>0</td>\n",
       "    </tr>\n",
       "    <tr>\n",
       "      <th>1029</th>\n",
       "      <td>0.673735</td>\n",
       "      <td>0.335972</td>\n",
       "      <td>-0.046743</td>\n",
       "      <td>0.069067</td>\n",
       "      <td>0.155425</td>\n",
       "      <td>0</td>\n",
       "    </tr>\n",
       "  </tbody>\n",
       "</table>\n",
       "<p>1030 rows × 6 columns</p>\n",
       "</div>"
      ],
      "text/plain": [
       "         meanX     meanY     meanZ      stdX      stdY  class\n",
       "0     0.340405  0.389897 -0.071118  0.065661  0.132062      0\n",
       "1     0.411505  0.283986 -0.045223  0.068520  0.143484      0\n",
       "2     0.407197  0.298185 -0.040169  0.067556  0.149036      0\n",
       "3     0.461817  0.229994 -0.042712  0.069907  0.159890      0\n",
       "4     0.482023  0.201822 -0.055571  0.071883  0.164498      0\n",
       "...        ...       ...       ...       ...       ...    ...\n",
       "1025  0.686055  0.325725 -0.051490  0.069666  0.157859      0\n",
       "1026  0.681790  0.329286 -0.051591  0.069505  0.157771      0\n",
       "1027  0.678626  0.333005 -0.054289  0.069537  0.156794      0\n",
       "1028  0.675963  0.334387 -0.048172  0.069355  0.155916      0\n",
       "1029  0.673735  0.335972 -0.046743  0.069067  0.155425      0\n",
       "\n",
       "[1030 rows x 6 columns]"
      ]
     },
     "execution_count": 1,
     "metadata": {},
     "output_type": "execute_result"
    }
   ],
   "source": [
    "import pandas as pd\n",
    "data_openHand=pd.read_csv(\"./class0_data.csv\")\n",
    "data_openHand=data_openHand.drop([\"Unnamed: 0\"], axis=1,)\n",
    "data_openHand"
   ]
  },
  {
   "cell_type": "code",
   "execution_count": 3,
   "metadata": {},
   "outputs": [
    {
     "data": {
      "text/html": [
       "<div>\n",
       "<style scoped>\n",
       "    .dataframe tbody tr th:only-of-type {\n",
       "        vertical-align: middle;\n",
       "    }\n",
       "\n",
       "    .dataframe tbody tr th {\n",
       "        vertical-align: top;\n",
       "    }\n",
       "\n",
       "    .dataframe thead th {\n",
       "        text-align: right;\n",
       "    }\n",
       "</style>\n",
       "<table border=\"1\" class=\"dataframe\">\n",
       "  <thead>\n",
       "    <tr style=\"text-align: right;\">\n",
       "      <th></th>\n",
       "      <th>meanX</th>\n",
       "      <th>meanY</th>\n",
       "      <th>meanZ</th>\n",
       "      <th>stdX</th>\n",
       "      <th>stdY</th>\n",
       "      <th>class</th>\n",
       "    </tr>\n",
       "  </thead>\n",
       "  <tbody>\n",
       "    <tr>\n",
       "      <th>0</th>\n",
       "      <td>0.154487</td>\n",
       "      <td>0.361844</td>\n",
       "      <td>-0.011553</td>\n",
       "      <td>0.036518</td>\n",
       "      <td>0.041710</td>\n",
       "      <td>1</td>\n",
       "    </tr>\n",
       "    <tr>\n",
       "      <th>1</th>\n",
       "      <td>0.160990</td>\n",
       "      <td>0.341099</td>\n",
       "      <td>-0.000883</td>\n",
       "      <td>0.034289</td>\n",
       "      <td>0.043641</td>\n",
       "      <td>1</td>\n",
       "    </tr>\n",
       "    <tr>\n",
       "      <th>2</th>\n",
       "      <td>0.173383</td>\n",
       "      <td>0.324125</td>\n",
       "      <td>0.003753</td>\n",
       "      <td>0.034366</td>\n",
       "      <td>0.042383</td>\n",
       "      <td>1</td>\n",
       "    </tr>\n",
       "    <tr>\n",
       "      <th>3</th>\n",
       "      <td>0.185414</td>\n",
       "      <td>0.314464</td>\n",
       "      <td>0.003707</td>\n",
       "      <td>0.033295</td>\n",
       "      <td>0.044524</td>\n",
       "      <td>1</td>\n",
       "    </tr>\n",
       "    <tr>\n",
       "      <th>4</th>\n",
       "      <td>0.198835</td>\n",
       "      <td>0.302632</td>\n",
       "      <td>-0.006817</td>\n",
       "      <td>0.034622</td>\n",
       "      <td>0.044423</td>\n",
       "      <td>1</td>\n",
       "    </tr>\n",
       "    <tr>\n",
       "      <th>...</th>\n",
       "      <td>...</td>\n",
       "      <td>...</td>\n",
       "      <td>...</td>\n",
       "      <td>...</td>\n",
       "      <td>...</td>\n",
       "      <td>...</td>\n",
       "    </tr>\n",
       "    <tr>\n",
       "      <th>1320</th>\n",
       "      <td>0.740393</td>\n",
       "      <td>0.146831</td>\n",
       "      <td>0.023651</td>\n",
       "      <td>0.026964</td>\n",
       "      <td>0.062858</td>\n",
       "      <td>1</td>\n",
       "    </tr>\n",
       "    <tr>\n",
       "      <th>1321</th>\n",
       "      <td>0.787584</td>\n",
       "      <td>0.145022</td>\n",
       "      <td>-0.023500</td>\n",
       "      <td>0.037246</td>\n",
       "      <td>0.057660</td>\n",
       "      <td>1</td>\n",
       "    </tr>\n",
       "    <tr>\n",
       "      <th>1322</th>\n",
       "      <td>0.803383</td>\n",
       "      <td>0.144791</td>\n",
       "      <td>-0.025726</td>\n",
       "      <td>0.033883</td>\n",
       "      <td>0.061093</td>\n",
       "      <td>1</td>\n",
       "    </tr>\n",
       "    <tr>\n",
       "      <th>1323</th>\n",
       "      <td>0.812711</td>\n",
       "      <td>0.143914</td>\n",
       "      <td>-0.008844</td>\n",
       "      <td>0.034781</td>\n",
       "      <td>0.057385</td>\n",
       "      <td>1</td>\n",
       "    </tr>\n",
       "    <tr>\n",
       "      <th>1324</th>\n",
       "      <td>0.814438</td>\n",
       "      <td>0.171073</td>\n",
       "      <td>-0.053107</td>\n",
       "      <td>0.038075</td>\n",
       "      <td>0.058176</td>\n",
       "      <td>1</td>\n",
       "    </tr>\n",
       "  </tbody>\n",
       "</table>\n",
       "<p>1325 rows × 6 columns</p>\n",
       "</div>"
      ],
      "text/plain": [
       "         meanX     meanY     meanZ      stdX      stdY  class\n",
       "0     0.154487  0.361844 -0.011553  0.036518  0.041710      1\n",
       "1     0.160990  0.341099 -0.000883  0.034289  0.043641      1\n",
       "2     0.173383  0.324125  0.003753  0.034366  0.042383      1\n",
       "3     0.185414  0.314464  0.003707  0.033295  0.044524      1\n",
       "4     0.198835  0.302632 -0.006817  0.034622  0.044423      1\n",
       "...        ...       ...       ...       ...       ...    ...\n",
       "1320  0.740393  0.146831  0.023651  0.026964  0.062858      1\n",
       "1321  0.787584  0.145022 -0.023500  0.037246  0.057660      1\n",
       "1322  0.803383  0.144791 -0.025726  0.033883  0.061093      1\n",
       "1323  0.812711  0.143914 -0.008844  0.034781  0.057385      1\n",
       "1324  0.814438  0.171073 -0.053107  0.038075  0.058176      1\n",
       "\n",
       "[1325 rows x 6 columns]"
      ]
     },
     "execution_count": 3,
     "metadata": {},
     "output_type": "execute_result"
    }
   ],
   "source": [
    "data_closeHand=pd.read_csv(\"./class1_data.csv\")\n",
    "data_closeHand=data_closeHand.drop([\"Unnamed: 0\"], axis=1,)\n",
    "data_closeHand"
   ]
  },
  {
   "cell_type": "code",
   "execution_count": 7,
   "metadata": {},
   "outputs": [
    {
     "data": {
      "text/html": [
       "<div>\n",
       "<style scoped>\n",
       "    .dataframe tbody tr th:only-of-type {\n",
       "        vertical-align: middle;\n",
       "    }\n",
       "\n",
       "    .dataframe tbody tr th {\n",
       "        vertical-align: top;\n",
       "    }\n",
       "\n",
       "    .dataframe thead th {\n",
       "        text-align: right;\n",
       "    }\n",
       "</style>\n",
       "<table border=\"1\" class=\"dataframe\">\n",
       "  <thead>\n",
       "    <tr style=\"text-align: right;\">\n",
       "      <th></th>\n",
       "      <th>meanX</th>\n",
       "      <th>meanY</th>\n",
       "      <th>meanZ</th>\n",
       "      <th>stdX</th>\n",
       "      <th>stdY</th>\n",
       "      <th>class</th>\n",
       "    </tr>\n",
       "  </thead>\n",
       "  <tbody>\n",
       "    <tr>\n",
       "      <th>0</th>\n",
       "      <td>0.340405</td>\n",
       "      <td>0.389897</td>\n",
       "      <td>-0.071118</td>\n",
       "      <td>0.065661</td>\n",
       "      <td>0.132062</td>\n",
       "      <td>0</td>\n",
       "    </tr>\n",
       "    <tr>\n",
       "      <th>1</th>\n",
       "      <td>0.411505</td>\n",
       "      <td>0.283986</td>\n",
       "      <td>-0.045223</td>\n",
       "      <td>0.068520</td>\n",
       "      <td>0.143484</td>\n",
       "      <td>0</td>\n",
       "    </tr>\n",
       "    <tr>\n",
       "      <th>2</th>\n",
       "      <td>0.407197</td>\n",
       "      <td>0.298185</td>\n",
       "      <td>-0.040169</td>\n",
       "      <td>0.067556</td>\n",
       "      <td>0.149036</td>\n",
       "      <td>0</td>\n",
       "    </tr>\n",
       "    <tr>\n",
       "      <th>3</th>\n",
       "      <td>0.461817</td>\n",
       "      <td>0.229994</td>\n",
       "      <td>-0.042712</td>\n",
       "      <td>0.069907</td>\n",
       "      <td>0.159890</td>\n",
       "      <td>0</td>\n",
       "    </tr>\n",
       "    <tr>\n",
       "      <th>4</th>\n",
       "      <td>0.482023</td>\n",
       "      <td>0.201822</td>\n",
       "      <td>-0.055571</td>\n",
       "      <td>0.071883</td>\n",
       "      <td>0.164498</td>\n",
       "      <td>0</td>\n",
       "    </tr>\n",
       "    <tr>\n",
       "      <th>...</th>\n",
       "      <td>...</td>\n",
       "      <td>...</td>\n",
       "      <td>...</td>\n",
       "      <td>...</td>\n",
       "      <td>...</td>\n",
       "      <td>...</td>\n",
       "    </tr>\n",
       "    <tr>\n",
       "      <th>1320</th>\n",
       "      <td>0.740393</td>\n",
       "      <td>0.146831</td>\n",
       "      <td>0.023651</td>\n",
       "      <td>0.026964</td>\n",
       "      <td>0.062858</td>\n",
       "      <td>1</td>\n",
       "    </tr>\n",
       "    <tr>\n",
       "      <th>1321</th>\n",
       "      <td>0.787584</td>\n",
       "      <td>0.145022</td>\n",
       "      <td>-0.023500</td>\n",
       "      <td>0.037246</td>\n",
       "      <td>0.057660</td>\n",
       "      <td>1</td>\n",
       "    </tr>\n",
       "    <tr>\n",
       "      <th>1322</th>\n",
       "      <td>0.803383</td>\n",
       "      <td>0.144791</td>\n",
       "      <td>-0.025726</td>\n",
       "      <td>0.033883</td>\n",
       "      <td>0.061093</td>\n",
       "      <td>1</td>\n",
       "    </tr>\n",
       "    <tr>\n",
       "      <th>1323</th>\n",
       "      <td>0.812711</td>\n",
       "      <td>0.143914</td>\n",
       "      <td>-0.008844</td>\n",
       "      <td>0.034781</td>\n",
       "      <td>0.057385</td>\n",
       "      <td>1</td>\n",
       "    </tr>\n",
       "    <tr>\n",
       "      <th>1324</th>\n",
       "      <td>0.814438</td>\n",
       "      <td>0.171073</td>\n",
       "      <td>-0.053107</td>\n",
       "      <td>0.038075</td>\n",
       "      <td>0.058176</td>\n",
       "      <td>1</td>\n",
       "    </tr>\n",
       "  </tbody>\n",
       "</table>\n",
       "<p>2355 rows × 6 columns</p>\n",
       "</div>"
      ],
      "text/plain": [
       "         meanX     meanY     meanZ      stdX      stdY  class\n",
       "0     0.340405  0.389897 -0.071118  0.065661  0.132062      0\n",
       "1     0.411505  0.283986 -0.045223  0.068520  0.143484      0\n",
       "2     0.407197  0.298185 -0.040169  0.067556  0.149036      0\n",
       "3     0.461817  0.229994 -0.042712  0.069907  0.159890      0\n",
       "4     0.482023  0.201822 -0.055571  0.071883  0.164498      0\n",
       "...        ...       ...       ...       ...       ...    ...\n",
       "1320  0.740393  0.146831  0.023651  0.026964  0.062858      1\n",
       "1321  0.787584  0.145022 -0.023500  0.037246  0.057660      1\n",
       "1322  0.803383  0.144791 -0.025726  0.033883  0.061093      1\n",
       "1323  0.812711  0.143914 -0.008844  0.034781  0.057385      1\n",
       "1324  0.814438  0.171073 -0.053107  0.038075  0.058176      1\n",
       "\n",
       "[2355 rows x 6 columns]"
      ]
     },
     "execution_count": 7,
     "metadata": {},
     "output_type": "execute_result"
    }
   ],
   "source": [
    "frame=[data_openHand,data_closeHand]\n",
    "data=pd.concat(frame)                         # concatener les deux dataframes\n",
    "data\n",
    "# data.drop([\"Unnamed: 0\"], axis=1)"
   ]
  },
  {
   "cell_type": "code",
   "execution_count": 4,
   "metadata": {},
   "outputs": [],
   "source": [
    "# data= data.sample(frac=1).reset_index()\n",
    "# data=data.drop([\"index\"], axis=1)\n",
    "# data.head()"
   ]
  },
  {
   "cell_type": "code",
   "execution_count": 5,
   "metadata": {},
   "outputs": [],
   "source": [
    "# data=data.drop([\"Unnamed: 0\"], axis=1)\n",
    "# data.head()"
   ]
  },
  {
   "cell_type": "code",
   "execution_count": 8,
   "metadata": {},
   "outputs": [
    {
     "data": {
      "text/html": [
       "<div>\n",
       "<style scoped>\n",
       "    .dataframe tbody tr th:only-of-type {\n",
       "        vertical-align: middle;\n",
       "    }\n",
       "\n",
       "    .dataframe tbody tr th {\n",
       "        vertical-align: top;\n",
       "    }\n",
       "\n",
       "    .dataframe thead th {\n",
       "        text-align: right;\n",
       "    }\n",
       "</style>\n",
       "<table border=\"1\" class=\"dataframe\">\n",
       "  <thead>\n",
       "    <tr style=\"text-align: right;\">\n",
       "      <th></th>\n",
       "      <th>meanX</th>\n",
       "      <th>meanY</th>\n",
       "      <th>meanZ</th>\n",
       "      <th>stdX</th>\n",
       "      <th>stdY</th>\n",
       "      <th>class</th>\n",
       "    </tr>\n",
       "  </thead>\n",
       "  <tbody>\n",
       "    <tr>\n",
       "      <th>0</th>\n",
       "      <td>0.340405</td>\n",
       "      <td>0.389897</td>\n",
       "      <td>-0.071118</td>\n",
       "      <td>0.065661</td>\n",
       "      <td>0.132062</td>\n",
       "      <td>0</td>\n",
       "    </tr>\n",
       "    <tr>\n",
       "      <th>1</th>\n",
       "      <td>0.411505</td>\n",
       "      <td>0.283986</td>\n",
       "      <td>-0.045223</td>\n",
       "      <td>0.068520</td>\n",
       "      <td>0.143484</td>\n",
       "      <td>0</td>\n",
       "    </tr>\n",
       "    <tr>\n",
       "      <th>2</th>\n",
       "      <td>0.407197</td>\n",
       "      <td>0.298185</td>\n",
       "      <td>-0.040169</td>\n",
       "      <td>0.067556</td>\n",
       "      <td>0.149036</td>\n",
       "      <td>0</td>\n",
       "    </tr>\n",
       "    <tr>\n",
       "      <th>3</th>\n",
       "      <td>0.461817</td>\n",
       "      <td>0.229994</td>\n",
       "      <td>-0.042712</td>\n",
       "      <td>0.069907</td>\n",
       "      <td>0.159890</td>\n",
       "      <td>0</td>\n",
       "    </tr>\n",
       "    <tr>\n",
       "      <th>4</th>\n",
       "      <td>0.482023</td>\n",
       "      <td>0.201822</td>\n",
       "      <td>-0.055571</td>\n",
       "      <td>0.071883</td>\n",
       "      <td>0.164498</td>\n",
       "      <td>0</td>\n",
       "    </tr>\n",
       "  </tbody>\n",
       "</table>\n",
       "</div>"
      ],
      "text/plain": [
       "      meanX     meanY     meanZ      stdX      stdY  class\n",
       "0  0.340405  0.389897 -0.071118  0.065661  0.132062      0\n",
       "1  0.411505  0.283986 -0.045223  0.068520  0.143484      0\n",
       "2  0.407197  0.298185 -0.040169  0.067556  0.149036      0\n",
       "3  0.461817  0.229994 -0.042712  0.069907  0.159890      0\n",
       "4  0.482023  0.201822 -0.055571  0.071883  0.164498      0"
      ]
     },
     "execution_count": 8,
     "metadata": {},
     "output_type": "execute_result"
    }
   ],
   "source": [
    "data_to_use=data.copy(deep=True)\n",
    "\n",
    "data_to_use.head()\n"
   ]
  },
  {
   "cell_type": "markdown",
   "metadata": {},
   "source": [
    "# K neighboors\n",
    "## Train Test Split\n"
   ]
  },
  {
   "cell_type": "code",
   "execution_count": 9,
   "metadata": {},
   "outputs": [],
   "source": [
    "from sklearn.model_selection import train_test_split\n",
    "\n",
    "X=data_to_use.drop(['class'],axis=1) # supprimer la colonne Hand qui permet d'indique si c'est ouvert ou pas \n",
    "y=data_to_use[\"class\"]"
   ]
  },
  {
   "cell_type": "code",
   "execution_count": 10,
   "metadata": {},
   "outputs": [
    {
     "data": {
      "text/plain": [
       "((1884, 5), (1884,))"
      ]
     },
     "execution_count": 10,
     "metadata": {},
     "output_type": "execute_result"
    }
   ],
   "source": [
    "X_train, X_test, y_train, y_test=train_test_split(X,y,test_size=0.2, random_state=1,shuffle=True)\n",
    "X_train.shape, y_train.shape"
   ]
  },
  {
   "cell_type": "code",
   "execution_count": 11,
   "metadata": {},
   "outputs": [
    {
     "data": {
      "text/html": [
       "<style>#sk-container-id-1 {color: black;background-color: white;}#sk-container-id-1 pre{padding: 0;}#sk-container-id-1 div.sk-toggleable {background-color: white;}#sk-container-id-1 label.sk-toggleable__label {cursor: pointer;display: block;width: 100%;margin-bottom: 0;padding: 0.3em;box-sizing: border-box;text-align: center;}#sk-container-id-1 label.sk-toggleable__label-arrow:before {content: \"▸\";float: left;margin-right: 0.25em;color: #696969;}#sk-container-id-1 label.sk-toggleable__label-arrow:hover:before {color: black;}#sk-container-id-1 div.sk-estimator:hover label.sk-toggleable__label-arrow:before {color: black;}#sk-container-id-1 div.sk-toggleable__content {max-height: 0;max-width: 0;overflow: hidden;text-align: left;background-color: #f0f8ff;}#sk-container-id-1 div.sk-toggleable__content pre {margin: 0.2em;color: black;border-radius: 0.25em;background-color: #f0f8ff;}#sk-container-id-1 input.sk-toggleable__control:checked~div.sk-toggleable__content {max-height: 200px;max-width: 100%;overflow: auto;}#sk-container-id-1 input.sk-toggleable__control:checked~label.sk-toggleable__label-arrow:before {content: \"▾\";}#sk-container-id-1 div.sk-estimator input.sk-toggleable__control:checked~label.sk-toggleable__label {background-color: #d4ebff;}#sk-container-id-1 div.sk-label input.sk-toggleable__control:checked~label.sk-toggleable__label {background-color: #d4ebff;}#sk-container-id-1 input.sk-hidden--visually {border: 0;clip: rect(1px 1px 1px 1px);clip: rect(1px, 1px, 1px, 1px);height: 1px;margin: -1px;overflow: hidden;padding: 0;position: absolute;width: 1px;}#sk-container-id-1 div.sk-estimator {font-family: monospace;background-color: #f0f8ff;border: 1px dotted black;border-radius: 0.25em;box-sizing: border-box;margin-bottom: 0.5em;}#sk-container-id-1 div.sk-estimator:hover {background-color: #d4ebff;}#sk-container-id-1 div.sk-parallel-item::after {content: \"\";width: 100%;border-bottom: 1px solid gray;flex-grow: 1;}#sk-container-id-1 div.sk-label:hover label.sk-toggleable__label {background-color: #d4ebff;}#sk-container-id-1 div.sk-serial::before {content: \"\";position: absolute;border-left: 1px solid gray;box-sizing: border-box;top: 0;bottom: 0;left: 50%;z-index: 0;}#sk-container-id-1 div.sk-serial {display: flex;flex-direction: column;align-items: center;background-color: white;padding-right: 0.2em;padding-left: 0.2em;position: relative;}#sk-container-id-1 div.sk-item {position: relative;z-index: 1;}#sk-container-id-1 div.sk-parallel {display: flex;align-items: stretch;justify-content: center;background-color: white;position: relative;}#sk-container-id-1 div.sk-item::before, #sk-container-id-1 div.sk-parallel-item::before {content: \"\";position: absolute;border-left: 1px solid gray;box-sizing: border-box;top: 0;bottom: 0;left: 50%;z-index: -1;}#sk-container-id-1 div.sk-parallel-item {display: flex;flex-direction: column;z-index: 1;position: relative;background-color: white;}#sk-container-id-1 div.sk-parallel-item:first-child::after {align-self: flex-end;width: 50%;}#sk-container-id-1 div.sk-parallel-item:last-child::after {align-self: flex-start;width: 50%;}#sk-container-id-1 div.sk-parallel-item:only-child::after {width: 0;}#sk-container-id-1 div.sk-dashed-wrapped {border: 1px dashed gray;margin: 0 0.4em 0.5em 0.4em;box-sizing: border-box;padding-bottom: 0.4em;background-color: white;}#sk-container-id-1 div.sk-label label {font-family: monospace;font-weight: bold;display: inline-block;line-height: 1.2em;}#sk-container-id-1 div.sk-label-container {text-align: center;}#sk-container-id-1 div.sk-container {/* jupyter's `normalize.less` sets `[hidden] { display: none; }` but bootstrap.min.css set `[hidden] { display: none !important; }` so we also need the `!important` here to be able to override the default hidden behavior on the sphinx rendered scikit-learn.org. See: https://github.com/scikit-learn/scikit-learn/issues/21755 */display: inline-block !important;position: relative;}#sk-container-id-1 div.sk-text-repr-fallback {display: none;}</style><div id=\"sk-container-id-1\" class=\"sk-top-container\"><div class=\"sk-text-repr-fallback\"><pre>KNeighborsClassifier()</pre><b>In a Jupyter environment, please rerun this cell to show the HTML representation or trust the notebook. <br />On GitHub, the HTML representation is unable to render, please try loading this page with nbviewer.org.</b></div><div class=\"sk-container\" hidden><div class=\"sk-item\"><div class=\"sk-estimator sk-toggleable\"><input class=\"sk-toggleable__control sk-hidden--visually\" id=\"sk-estimator-id-1\" type=\"checkbox\" checked><label for=\"sk-estimator-id-1\" class=\"sk-toggleable__label sk-toggleable__label-arrow\">KNeighborsClassifier</label><div class=\"sk-toggleable__content\"><pre>KNeighborsClassifier()</pre></div></div></div></div></div>"
      ],
      "text/plain": [
       "KNeighborsClassifier()"
      ]
     },
     "execution_count": 11,
     "metadata": {},
     "output_type": "execute_result"
    }
   ],
   "source": [
    "from sklearn.neighbors import KNeighborsClassifier\n",
    " \n",
    "Knn= KNeighborsClassifier(n_neighbors=5) # n_neigbors value of key\n",
    "Knn.fit(X_train,y_train)"
   ]
  },
  {
   "cell_type": "code",
   "execution_count": 12,
   "metadata": {},
   "outputs": [
    {
     "data": {
      "text/plain": [
       "0.9766454352441614"
      ]
     },
     "execution_count": 12,
     "metadata": {},
     "output_type": "execute_result"
    }
   ],
   "source": [
    "Knn.score(X_test,y_test)  # la valeur optimale est 3"
   ]
  },
  {
   "cell_type": "code",
   "execution_count": 13,
   "metadata": {},
   "outputs": [
    {
     "data": {
      "text/plain": [
       "array([[201,   5],\n",
       "       [  6, 259]], dtype=int64)"
      ]
     },
     "execution_count": 13,
     "metadata": {},
     "output_type": "execute_result"
    }
   ],
   "source": [
    "from sklearn.metrics import confusion_matrix\n",
    "y_pred = Knn.predict(X_test)\n",
    "\n",
    "cm=confusion_matrix(y_test, y_pred)\n",
    "cm\n"
   ]
  },
  {
   "cell_type": "code",
   "execution_count": 14,
   "metadata": {},
   "outputs": [
    {
     "name": "stdout",
     "output_type": "stream",
     "text": [
      "[1]\n"
     ]
    },
    {
     "name": "stderr",
     "output_type": "stream",
     "text": [
      "c:\\Users\\abdon\\AppData\\Local\\Programs\\Python\\Python310\\lib\\site-packages\\sklearn\\base.py:450: UserWarning: X does not have valid feature names, but KNeighborsClassifier was fitted with feature names\n",
      "  warnings.warn(\n"
     ]
    }
   ],
   "source": [
    "y_predic1=Knn.predict([[0.43001091338339303,0.6626919366064525,-0.024822250292014812,0.03582742611384501,0.04536368541562442\n",
    "]])\n",
    "print(y_predic1)"
   ]
  },
  {
   "cell_type": "code",
   "execution_count": 15,
   "metadata": {},
   "outputs": [
    {
     "data": {
      "text/plain": [
       "Text(58.222222222222214, 0.5, 'Truth')"
      ]
     },
     "execution_count": 15,
     "metadata": {},
     "output_type": "execute_result"
    },
    {
     "data": {
      "image/png": "[encoded data removed]",
      "text/plain": [
       "<Figure size 700x500 with 2 Axes>"
      ]
     },
     "metadata": {},
     "output_type": "display_data"
    }
   ],
   "source": [
    "# %matplotlib\n",
    "\n",
    "import matplotlib.pyplot as plt\n",
    "import seaborn as sn\n",
    "plt.figure(figsize=(7,5))\n",
    "sn.heatmap(cm, annot=True)\n",
    "plt.xlabel('predis')\n",
    "plt.ylabel('Truth')\n",
    "\n",
    "# le diagonale est toujours les valeurs vraies "
   ]
  },
  {
   "cell_type": "code",
   "execution_count": 16,
   "metadata": {},
   "outputs": [
    {
     "name": "stdout",
     "output_type": "stream",
     "text": [
      "              precision    recall  f1-score   support\n",
      "\n",
      "           0       0.97      0.98      0.97       206\n",
      "           1       0.98      0.98      0.98       265\n",
      "\n",
      "    accuracy                           0.98       471\n",
      "   macro avg       0.98      0.98      0.98       471\n",
      "weighted avg       0.98      0.98      0.98       471\n",
      "\n"
     ]
    }
   ],
   "source": [
    "from sklearn.metrics import classification_report\n",
    "print(classification_report(y_test,y_pred))"
   ]
  },
  {
   "cell_type": "code",
   "execution_count": 17,
   "metadata": {},
   "outputs": [],
   "source": [
    "import pickle #pickle\n",
    "\n",
    "# save model\n",
    "with open('knn.pickle', 'wb') as f:\n",
    "    pickle.dump(Knn, f)\n",
    "\n",
    "#read Model\n",
    "# with open('knn.pickle', 'rb') as f:\n",
    "#     clf = pickle.load(f)\n"
   ]
  },
  {
   "cell_type": "code",
   "execution_count": null,
   "metadata": {},
   "outputs": [],
   "source": []
  }
 ],
 "metadata": {
  "kernelspec": {
   "display_name": "Python 3.10.6 64-bit",
   "language": "python",
   "name": "python3"
  },
  "language_info": {
   "codemirror_mode": {
    "name": "ipython",
    "version": 3
   },
   "file_extension": ".py",
   "mimetype": "text/x-python",
   "name": "python",
   "nbconvert_exporter": "python",
   "pygments_lexer": "ipython3",
   "version": "3.10.6 (tags/v3.10.6:9c7b4bd, Aug  1 2022, 21:53:49) [MSC v.1932 64 bit (AMD64)]"
  },
  "orig_nbformat": 4,
  "vscode": {
   "interpreter": {
    "hash": "28a558e715ff5ca1b5bfe3970c248c9eaae5e9b34450290b929ecdb376e95104"
   }
  }
 },
 "nbformat": 4,
 "nbformat_minor": 2
}
